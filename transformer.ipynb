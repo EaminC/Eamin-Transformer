{
 "cells": [
  {
   "cell_type": "code",
   "execution_count": 2,
   "metadata": {},
   "outputs": [
    {
     "name": "stderr",
     "output_type": "stream",
     "text": [
      "/Users/eamin/miniconda3/envs/transformer/lib/python3.13/site-packages/torch/_subclasses/functional_tensor.py:275: UserWarning: Failed to initialize NumPy: No module named 'numpy' (Triggered internally at /Users/runner/work/pytorch/pytorch/pytorch/torch/csrc/utils/tensor_numpy.cpp:81.)\n",
      "  cpu = _conversion_method_template(device=torch.device(\"cpu\"))\n"
     ]
    }
   ],
   "source": [
    "import torch\n",
    "import torch.nn as nn\n",
    "import math\n",
    "from torch.autograd import Variable"
   ]
  },
  {
   "cell_type": "code",
   "execution_count": null,
   "metadata": {},
   "outputs": [],
   "source": [
    "class Embeddings(nn.Module):\n",
    "\n",
    "    def __init__(self,d_model,vocab):\n",
    "        #d_model:dimension of embedding \n",
    "        #vocab:size of wordlist\n",
    "        super(Embeddings,self).__init__()\n",
    "        self.lut =nn.Embedding(vocab,d_model)\n",
    "        self.d_model =d_model\n",
    "    def forward(self,x):\n",
    "        return self.lut(x)*math.sqrt(self.d_model)\n",
    "\n",
    "    "
   ]
  },
  {
   "cell_type": "code",
   "execution_count": 18,
   "metadata": {},
   "outputs": [
    {
     "name": "stdout",
     "output_type": "stream",
     "text": [
      "tensor([[[ 0.1482,  0.5498, -0.2594],\n",
      "         [-1.0124,  1.6539, -0.7829],\n",
      "         [ 0.2430, -0.7481, -1.2122],\n",
      "         [ 0.8173,  1.1927,  2.8921]],\n",
      "\n",
      "        [[-1.0124,  1.6539, -0.7829],\n",
      "         [-0.0998, -0.6254, -0.0588],\n",
      "         [ 0.2430, -0.7481, -1.2122],\n",
      "         [-0.3934,  0.4252, -2.2652]]], grad_fn=<EmbeddingBackward0>)\n"
     ]
    }
   ],
   "source": [
    "#nn.Embedding(vocab,d_model)\n",
    "#integer in[0,vocab-1]->vector in R^d_model(randomly)\n",
    "#integer in tensor lut place by place\n",
    "embedding = nn.Embedding(10,3)\n",
    "input = torch.LongTensor([[1,2,4,5],[2,3,4,9]])\n",
    "print(embedding(input))\n",
    "#10:max integer0-9\n",
    "#3:each ->3d\n",
    "#[[1,2,4,5],[2,3,4,9]]\n",
    "#  v\n",
    "#[-0.1440,  0.7280, -0.9128]"
   ]
  },
  {
   "cell_type": "code",
   "execution_count": 20,
   "metadata": {},
   "outputs": [
    {
     "name": "stdout",
     "output_type": "stream",
     "text": [
      "tensor([[ 0.0000,  0.0000,  0.0000],\n",
      "        [ 0.3168, -1.0745,  0.8047]], grad_fn=<EmbeddingBackward0>)\n"
     ]
    }
   ],
   "source": [
    "embedding = nn.Embedding(10,3,padding_idx=1)\n",
    "input=torch.LongTensor([1,0])\n",
    "print(embedding(input))\n",
    "#[1,0]\n",
    "# V\n",
    "#[ 0.0000,  0.0000,  0.0000]\n",
    "#padding_idx->0"
   ]
  }
 ],
 "metadata": {
  "kernelspec": {
   "display_name": "transformer",
   "language": "python",
   "name": "python3"
  },
  "language_info": {
   "codemirror_mode": {
    "name": "ipython",
    "version": 3
   },
   "file_extension": ".py",
   "mimetype": "text/x-python",
   "name": "python",
   "nbconvert_exporter": "python",
   "pygments_lexer": "ipython3",
   "version": "3.13.2"
  }
 },
 "nbformat": 4,
 "nbformat_minor": 2
}
