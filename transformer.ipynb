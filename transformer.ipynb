{
 "cells": [
  {
   "cell_type": "markdown",
   "metadata": {},
   "source": [
    "# Input\n"
   ]
  },
  {
   "cell_type": "markdown",
   "metadata": {},
   "source": [
    "## Embedding\n"
   ]
  },
  {
   "cell_type": "code",
   "execution_count": 24,
   "metadata": {},
   "outputs": [],
   "source": [
    "import torch\n",
    "import torch.nn as nn\n",
    "import math\n",
    "from torch.autograd import Variable"
   ]
  },
  {
   "cell_type": "code",
   "execution_count": 25,
   "metadata": {},
   "outputs": [
    {
     "name": "stdout",
     "output_type": "stream",
     "text": [
      "embr tensor([[[-12.5076,   9.6950,  -1.3908,  ..., -38.4902, -20.1899, -19.3675],\n",
      "         [  2.7012,   1.2369, -25.3653,  ..., -22.2957,   2.8954,  -5.4390]],\n",
      "\n",
      "        [[ 27.5275,  36.0762,  40.7525,  ..., -33.4257, -15.4601,  15.4012],\n",
      "         [ 24.5787, -12.0387,  19.4399,  ...,  16.0023,   4.8548,   3.9208]]],\n",
      "       grad_fn=<MulBackward0>)\n",
      "embrshape torch.Size([2, 2, 512])\n"
     ]
    }
   ],
   "source": [
    "class Embeddings(nn.Module):\n",
    "\n",
    "    def __init__(self,d_model,vocab):\n",
    "        #d_model:dimension of embedding \n",
    "        #vocab:size of wordlist\n",
    "        super(Embeddings,self).__init__()\n",
    "        self.lut =nn.Embedding(vocab,d_model)\n",
    "        self.d_model =d_model\n",
    "    def forward(self,x):\n",
    "        return self.lut(x)*math.sqrt(self.d_model)\n",
    "    \n",
    "d_model =512\n",
    "vocab = 1000\n",
    "x=Variable(torch.LongTensor([[1,2],[3,4]]))\n",
    "emb =Embeddings(d_model,vocab)\n",
    "emb_rslt=emb(x)\n",
    "print(\"embr\",emb_rslt)\n",
    "print(\"embrshape\",emb_rslt.shape)\n",
    "\n",
    "    "
   ]
  },
  {
   "cell_type": "code",
   "execution_count": 26,
   "metadata": {},
   "outputs": [
    {
     "name": "stdout",
     "output_type": "stream",
     "text": [
      "tensor([[[ 1.8997,  0.6557, -0.1424],\n",
      "         [-0.0872,  0.1228, -0.7261],\n",
      "         [ 0.4782,  0.0221, -1.3902],\n",
      "         [ 0.5069,  0.9979,  0.0901]],\n",
      "\n",
      "        [[-0.0872,  0.1228, -0.7261],\n",
      "         [ 1.5800,  0.5353,  0.6007],\n",
      "         [ 0.4782,  0.0221, -1.3902],\n",
      "         [ 0.1910, -1.2970, -0.9452]]], grad_fn=<EmbeddingBackward0>)\n"
     ]
    }
   ],
   "source": [
    "#nn.Embedding(vocab,d_model)\n",
    "#integer in[0,vocab-1]->vector in R^d_model(randomly)\n",
    "#integer in tensor lut place by place\n",
    "embedding = nn.Embedding(10,3)\n",
    "input = torch.LongTensor([[1,2,4,5],[2,3,4,9]])\n",
    "print(embedding(input))\n",
    "#10:max integer0-9\n",
    "#3:each ->3d\n",
    "#[[1,2,4,5],[2,3,4,9]]\n",
    "#  v\n",
    "#[-0.1440,  0.7280, -0.9128]"
   ]
  },
  {
   "cell_type": "code",
   "execution_count": 27,
   "metadata": {},
   "outputs": [
    {
     "name": "stdout",
     "output_type": "stream",
     "text": [
      "tensor([[ 0.0000,  0.0000,  0.0000],\n",
      "        [ 1.6208,  0.2372, -1.3009]], grad_fn=<EmbeddingBackward0>)\n"
     ]
    }
   ],
   "source": [
    "embedding = nn.Embedding(10,3,padding_idx=1)\n",
    "input=torch.LongTensor([1,0])\n",
    "print(embedding(input))\n",
    "#[1,0]\n",
    "# V\n",
    "#[ 0.0000,  0.0000,  0.0000]\n",
    "#padding_idx->0"
   ]
  },
  {
   "cell_type": "markdown",
   "metadata": {},
   "source": [
    "## Position Encoding\n"
   ]
  },
  {
   "cell_type": "code",
   "execution_count": null,
   "metadata": {},
   "outputs": [],
   "source": []
  }
 ],
 "metadata": {
  "kernelspec": {
   "display_name": "transformer",
   "language": "python",
   "name": "python3"
  },
  "language_info": {
   "codemirror_mode": {
    "name": "ipython",
    "version": 3
   },
   "file_extension": ".py",
   "mimetype": "text/x-python",
   "name": "python",
   "nbconvert_exporter": "python",
   "pygments_lexer": "ipython3",
   "version": "3.13.2"
  }
 },
 "nbformat": 4,
 "nbformat_minor": 2
}
