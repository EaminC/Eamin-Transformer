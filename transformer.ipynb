{
 "cells": [
  {
   "cell_type": "markdown",
   "metadata": {},
   "source": [
    "# Input\n"
   ]
  },
  {
   "cell_type": "markdown",
   "metadata": {},
   "source": [
    "## Embedding\n"
   ]
  },
  {
   "cell_type": "code",
   "execution_count": 2,
   "metadata": {},
   "outputs": [
    {
     "name": "stderr",
     "output_type": "stream",
     "text": [
      "/Users/eamin/miniconda3/envs/transformer/lib/python3.13/site-packages/torch/_subclasses/functional_tensor.py:275: UserWarning: Failed to initialize NumPy: No module named 'numpy' (Triggered internally at /Users/runner/work/pytorch/pytorch/pytorch/torch/csrc/utils/tensor_numpy.cpp:81.)\n",
      "  cpu = _conversion_method_template(device=torch.device(\"cpu\"))\n"
     ]
    }
   ],
   "source": [
    "import torch\n",
    "import torch.nn as nn\n",
    "import math\n",
    "from torch.autograd import Variable"
   ]
  },
  {
   "cell_type": "code",
   "execution_count": 23,
   "metadata": {},
   "outputs": [
    {
     "name": "stdout",
     "output_type": "stream",
     "text": [
      "embr tensor([[[ 21.0861, -14.7442,  11.5807,  ...,  31.9666,  -1.6950, -41.3583],\n",
      "         [ 24.7498, -20.5812,  29.3744,  ...,  -6.3670,  14.5384,  29.6332]],\n",
      "\n",
      "        [[ 14.9717,  29.7386,  -1.8448,  ...,   6.0951,  35.0194,  34.2945],\n",
      "         [ 23.3535,  -7.7220, -31.1209,  ..., -44.7663,  10.5432,  15.8344]]],\n",
      "       grad_fn=<MulBackward0>)\n",
      "embrshape torch.Size([2, 2, 512])\n"
     ]
    }
   ],
   "source": [
    "class Embeddings(nn.Module):\n",
    "\n",
    "    def __init__(self,d_model,vocab):\n",
    "        #d_model:dimension of embedding \n",
    "        #vocab:size of wordlist\n",
    "        super(Embeddings,self).__init__()\n",
    "        self.lut =nn.Embedding(vocab,d_model)\n",
    "        self.d_model =d_model\n",
    "    def forward(self,x):\n",
    "        return self.lut(x)*math.sqrt(self.d_model)\n",
    "    \n",
    "d_model =512\n",
    "vocab = 1000\n",
    "x=Variable(torch.LongTensor([[1,2],[3,4]]))\n",
    "emb =Embeddings(d_model,vocab)\n",
    "emb_rslt=emb(x)\n",
    "print(\"embr\",emb_rslt)\n",
    "print(\"embrshape\",emb_rslt.shape)\n",
    "\n",
    "    "
   ]
  },
  {
   "cell_type": "code",
   "execution_count": 18,
   "metadata": {},
   "outputs": [
    {
     "name": "stdout",
     "output_type": "stream",
     "text": [
      "tensor([[[ 0.1482,  0.5498, -0.2594],\n",
      "         [-1.0124,  1.6539, -0.7829],\n",
      "         [ 0.2430, -0.7481, -1.2122],\n",
      "         [ 0.8173,  1.1927,  2.8921]],\n",
      "\n",
      "        [[-1.0124,  1.6539, -0.7829],\n",
      "         [-0.0998, -0.6254, -0.0588],\n",
      "         [ 0.2430, -0.7481, -1.2122],\n",
      "         [-0.3934,  0.4252, -2.2652]]], grad_fn=<EmbeddingBackward0>)\n"
     ]
    }
   ],
   "source": [
    "#nn.Embedding(vocab,d_model)\n",
    "#integer in[0,vocab-1]->vector in R^d_model(randomly)\n",
    "#integer in tensor lut place by place\n",
    "embedding = nn.Embedding(10,3)\n",
    "input = torch.LongTensor([[1,2,4,5],[2,3,4,9]])\n",
    "print(embedding(input))\n",
    "#10:max integer0-9\n",
    "#3:each ->3d\n",
    "#[[1,2,4,5],[2,3,4,9]]\n",
    "#  v\n",
    "#[-0.1440,  0.7280, -0.9128]"
   ]
  },
  {
   "cell_type": "code",
   "execution_count": 20,
   "metadata": {},
   "outputs": [
    {
     "name": "stdout",
     "output_type": "stream",
     "text": [
      "tensor([[ 0.0000,  0.0000,  0.0000],\n",
      "        [ 0.3168, -1.0745,  0.8047]], grad_fn=<EmbeddingBackward0>)\n"
     ]
    }
   ],
   "source": [
    "embedding = nn.Embedding(10,3,padding_idx=1)\n",
    "input=torch.LongTensor([1,0])\n",
    "print(embedding(input))\n",
    "#[1,0]\n",
    "# V\n",
    "#[ 0.0000,  0.0000,  0.0000]\n",
    "#padding_idx->0"
   ]
  },
  {
   "cell_type": "markdown",
   "metadata": {},
   "source": [
    "## Position Encoding\n"
   ]
  },
  {
   "cell_type": "code",
   "execution_count": null,
   "metadata": {},
   "outputs": [],
   "source": []
  }
 ],
 "metadata": {
  "kernelspec": {
   "display_name": "transformer",
   "language": "python",
   "name": "python3"
  },
  "language_info": {
   "codemirror_mode": {
    "name": "ipython",
    "version": 3
   },
   "file_extension": ".py",
   "mimetype": "text/x-python",
   "name": "python",
   "nbconvert_exporter": "python",
   "pygments_lexer": "ipython3",
   "version": "3.13.2"
  }
 },
 "nbformat": 4,
 "nbformat_minor": 2
}
