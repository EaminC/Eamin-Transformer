{
 "cells": [
  {
   "cell_type": "code",
   "execution_count": 1,
   "metadata": {},
   "outputs": [],
   "source": [
    "import torch\n",
    "import torch.nn as nn\n",
    "import math\n",
    "from torch.autograd import Variable"
   ]
  },
  {
   "cell_type": "code",
   "execution_count": 2,
   "metadata": {},
   "outputs": [
    {
     "name": "stdout",
     "output_type": "stream",
     "text": [
      "embr tensor([[[ -6.6024, -17.0172, -43.9777,  ...,  26.4878,   2.8287,  24.9519],\n",
      "         [  4.8498, -57.4273,  13.0709,  ...,   8.8955,  28.0624,   6.5411],\n",
      "         [ -6.6371,  37.8436,  29.7752,  ..., -55.6073,  13.4237,  17.1238],\n",
      "         [ 31.3082, -40.0307, -51.2243,  ..., -35.6675,  40.3791, -22.6869]],\n",
      "\n",
      "        [[  4.8498, -57.4273,  13.0709,  ...,   8.8955,  28.0624,   6.5411],\n",
      "         [  4.8498, -57.4273,  13.0709,  ...,   8.8955,  28.0624,   6.5411],\n",
      "         [ -6.6371,  37.8436,  29.7752,  ..., -55.6073,  13.4237,  17.1238],\n",
      "         [ 31.3082, -40.0307, -51.2243,  ..., -35.6675,  40.3791, -22.6869]]],\n",
      "       grad_fn=<MulBackward0>)\n",
      "embrshape torch.Size([2, 4, 512])\n"
     ]
    }
   ],
   "source": [
    "class Embeddings(nn.Module):\n",
    "\n",
    "    def __init__(self,d_model,vocab):\n",
    "        #d_model:dimension of embedding \n",
    "        #vocab:size of wordlist\n",
    "        super(Embeddings,self).__init__()\n",
    "        self.lut =nn.Embedding(vocab,d_model)\n",
    "        self.d_model =d_model\n",
    "    def forward(self,x):\n",
    "        return self.lut(x)*math.sqrt(self.d_model)\n",
    "    \n",
    "d_model =512\n",
    "vocab = 1000\n",
    "x=torch.LongTensor([[1,2,3,4],[2,2,3,4]])\n",
    "emb =Embeddings(d_model,vocab)\n",
    "emb_rslt=emb(x)\n",
    "print(\"embr\",emb_rslt)\n",
    "print(\"embrshape\",emb_rslt.shape)\n",
    "\n",
    "    "
   ]
  }
 ],
 "metadata": {
  "kernelspec": {
   "display_name": "transformer",
   "language": "python",
   "name": "python3"
  },
  "language_info": {
   "codemirror_mode": {
    "name": "ipython",
    "version": 3
   },
   "file_extension": ".py",
   "mimetype": "text/x-python",
   "name": "python",
   "nbconvert_exporter": "python",
   "pygments_lexer": "ipython3",
   "version": "3.13.2"
  }
 },
 "nbformat": 4,
 "nbformat_minor": 2
}
